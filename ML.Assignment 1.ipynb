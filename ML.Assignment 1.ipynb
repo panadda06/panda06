{
 "cells": [
  {
   "cell_type": "code",
   "execution_count": 18,
   "id": "ec98372c",
   "metadata": {},
   "outputs": [],
   "source": [
    "#Assignment 1: Deadline: 14 January 2022\n",
    "#Panadda Sujikul 1923510091 \n",
    "#Thongprakorn 1923510067\n",
    "#kamonwan 1923510042"
   ]
  },
  {
   "cell_type": "code",
   "execution_count": null,
   "id": "2f121ff6",
   "metadata": {},
   "outputs": [],
   "source": [
    "from fs.osfs import OSFS"
   ]
  },
  {
   "cell_type": "code",
   "execution_count": 19,
   "id": "af2dd69c",
   "metadata": {},
   "outputs": [],
   "source": [
    "from selenium import webdriver\n",
    "from bs4 import BeautifulSoup\n",
    "import time\n",
    "import requests\n",
    "import urllib.request\n",
    "import selenium\n",
    "import sys"
   ]
  },
  {
   "cell_type": "code",
   "execution_count": 20,
   "id": "3d3abcc9",
   "metadata": {},
   "outputs": [],
   "source": [
    "driver = webdriver.Chrome(executable_path = 'C:/ML/chromedriver')"
   ]
  },
  {
   "cell_type": "code",
   "execution_count": 21,
   "id": "d9c8ef0f",
   "metadata": {},
   "outputs": [],
   "source": [
    "keywords = ['Dog' , 'Cat' , 'Sheep' , 'Deer']"
   ]
  },
  {
   "cell_type": "code",
   "execution_count": null,
   "id": "0d6e4f8f",
   "metadata": {},
   "outputs": [],
   "source": [
    "for keyword in keywords:\n",
    "    site = 'https://google.com/search?q='+keyword+'&tbm=isch'+'&tbs=isz:lt,islt:svga'\n",
    "    driver.get(site)\n",
    "    \n",
    "    for i in range(0,7):\n",
    "        driver.execute_script(\"window.scrollBy(0,document.body.scrollHeight)\")\n",
    "        try:\n",
    "        \n",
    "            driver.find_element_by_xpath('//*[@id=\"islmp\"]/div/div/div/div/div[2]/div[2]/input').click()\n",
    "        except Exception as e:\n",
    "            pass\n",
    "        time.sleep(5)\n",
    "        \n",
    "    soup = BeautifulSoup(driver.page_source, 'html.parser')\n",
    "    img_tags = soup.find_all('img', class_ = 'rg_i')\n",
    "    \n",
    "    with OSFS('./download/') as myfs:\n",
    "        if (not myfs.exists(keyword)):\n",
    "            myfs.makedir(keyword)\n",
    "    count = 1 \n",
    "    for i in img_tags:\n",
    "        try:\n",
    "            path = 'download/'+ keyword +'/'+keyword + str(count) + '.jpg'\n",
    "            urllib.request.urlretrieve(i['src'], path)\n",
    "            print(\"Number of images downloaded = \"+ str(count), end='\\r')\n",
    "            count += 1\n",
    "        except Exception as e:\n",
    "            pass\n",
    "        "
   ]
  },
  {
   "cell_type": "code",
   "execution_count": null,
   "id": "61da0c66",
   "metadata": {},
   "outputs": [],
   "source": []
  }
 ],
 "metadata": {
  "kernelspec": {
   "display_name": "Python 3",
   "language": "python",
   "name": "python3"
  },
  "language_info": {
   "codemirror_mode": {
    "name": "ipython",
    "version": 3
   },
   "file_extension": ".py",
   "mimetype": "text/x-python",
   "name": "python",
   "nbconvert_exporter": "python",
   "pygments_lexer": "ipython3",
   "version": "3.8.8"
  }
 },
 "nbformat": 4,
 "nbformat_minor": 5
}
