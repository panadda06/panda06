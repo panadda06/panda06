{
 "cells": [
  {
   "cell_type": "code",
   "execution_count": 49,
   "id": "ef583bc9",
   "metadata": {},
   "outputs": [],
   "source": [
    "import json\n",
    "import requests\n",
    "import pandas as pd\n",
    "import matplotlib.pyplot as plt\n",
    "import numpy as np"
   ]
  },
  {
   "cell_type": "code",
   "execution_count": 19,
   "id": "edd90ba7",
   "metadata": {},
   "outputs": [
    {
     "data": {
      "text/html": [
       "<div>\n",
       "<style scoped>\n",
       "    .dataframe tbody tr th:only-of-type {\n",
       "        vertical-align: middle;\n",
       "    }\n",
       "\n",
       "    .dataframe tbody tr th {\n",
       "        vertical-align: top;\n",
       "    }\n",
       "\n",
       "    .dataframe thead th {\n",
       "        text-align: right;\n",
       "    }\n",
       "</style>\n",
       "<table border=\"1\" class=\"dataframe\">\n",
       "  <thead>\n",
       "    <tr style=\"text-align: right;\">\n",
       "      <th></th>\n",
       "      <th>Name</th>\n",
       "      <th>Gender_Prediction</th>\n",
       "      <th>Probability</th>\n",
       "    </tr>\n",
       "  </thead>\n",
       "  <tbody>\n",
       "    <tr>\n",
       "      <th>0</th>\n",
       "      <td>Panadda</td>\n",
       "      <td>female</td>\n",
       "      <td>0.99</td>\n",
       "    </tr>\n",
       "    <tr>\n",
       "      <th>1</th>\n",
       "      <td>Park</td>\n",
       "      <td>male</td>\n",
       "      <td>0.80</td>\n",
       "    </tr>\n",
       "    <tr>\n",
       "      <th>2</th>\n",
       "      <td>Minnie</td>\n",
       "      <td>female</td>\n",
       "      <td>0.97</td>\n",
       "    </tr>\n",
       "    <tr>\n",
       "      <th>3</th>\n",
       "      <td>Milk</td>\n",
       "      <td>male</td>\n",
       "      <td>0.57</td>\n",
       "    </tr>\n",
       "    <tr>\n",
       "      <th>4</th>\n",
       "      <td>Parichat</td>\n",
       "      <td>female</td>\n",
       "      <td>0.99</td>\n",
       "    </tr>\n",
       "    <tr>\n",
       "      <th>5</th>\n",
       "      <td>Jack</td>\n",
       "      <td>male</td>\n",
       "      <td>0.98</td>\n",
       "    </tr>\n",
       "    <tr>\n",
       "      <th>6</th>\n",
       "      <td>Rose</td>\n",
       "      <td>female</td>\n",
       "      <td>0.97</td>\n",
       "    </tr>\n",
       "    <tr>\n",
       "      <th>7</th>\n",
       "      <td>SunFlower</td>\n",
       "      <td>female</td>\n",
       "      <td>0.92</td>\n",
       "    </tr>\n",
       "  </tbody>\n",
       "</table>\n",
       "</div>"
      ],
      "text/plain": [
       "        Name Gender_Prediction  Probability\n",
       "0    Panadda            female         0.99\n",
       "1       Park              male         0.80\n",
       "2     Minnie            female         0.97\n",
       "3       Milk              male         0.57\n",
       "4   Parichat            female         0.99\n",
       "5       Jack              male         0.98\n",
       "6       Rose            female         0.97\n",
       "7  SunFlower            female         0.92"
      ]
     },
     "execution_count": 19,
     "metadata": {},
     "output_type": "execute_result"
    }
   ],
   "source": [
    "#Genderize 1\n",
    "def getGenders(names):\n",
    "    url = \"\"\n",
    "    cnt = 0\n",
    "    if not isinstance(names,list):\n",
    "        names = [names,]\n",
    "\n",
    "    for name in names:\n",
    "        if url == \"\":\n",
    "            url = \"name[0]=\" + name\n",
    "        else:\n",
    "            cnt += 1\n",
    "            url = url + \"&name[\" + str(cnt) + \"]=\" + name\n",
    "\n",
    "\n",
    "    req = requests.get(\"https://api.genderize.io?\" + url)\n",
    "    results = json.loads(req.text)\n",
    "\n",
    "    retrn = []\n",
    "    for result in results:\n",
    "        if result[\"gender\"] is not None:\n",
    "            retrn.append((result[\"name\"],result[\"gender\"], result[\"probability\"]))\n",
    "        else:\n",
    "            retrn.append((u'None',u'0.0'))\n",
    "    return retrn\n",
    "\n",
    "Gender_predict_record = pd.DataFrame(getGenders([\"Panadda\",\"Park\",\"Minnie\",\"Milk\",\"Parichat\", \"Jack\", \"Rose\",\"SunFlower\"]))\n",
    "Gender_predict_record.rename(columns={\n",
    "        0: 'Name', \n",
    "        1: 'Gender_Prediction',\n",
    "        2: 'Probability'\n",
    "    }, inplace=True)\n",
    "Gender_predict_record"
   ]
  },
  {
   "cell_type": "code",
   "execution_count": 20,
   "id": "007b7f07",
   "metadata": {},
   "outputs": [
    {
     "data": {
      "text/html": [
       "<div>\n",
       "<style scoped>\n",
       "    .dataframe tbody tr th:only-of-type {\n",
       "        vertical-align: middle;\n",
       "    }\n",
       "\n",
       "    .dataframe tbody tr th {\n",
       "        vertical-align: top;\n",
       "    }\n",
       "\n",
       "    .dataframe thead th {\n",
       "        text-align: right;\n",
       "    }\n",
       "</style>\n",
       "<table border=\"1\" class=\"dataframe\">\n",
       "  <thead>\n",
       "    <tr style=\"text-align: right;\">\n",
       "      <th></th>\n",
       "      <th>ID Nation</th>\n",
       "      <th>Nation</th>\n",
       "      <th>ID Year</th>\n",
       "      <th>Year</th>\n",
       "      <th>Population</th>\n",
       "      <th>Slug Nation</th>\n",
       "    </tr>\n",
       "  </thead>\n",
       "  <tbody>\n",
       "    <tr>\n",
       "      <th>6</th>\n",
       "      <td>01000US</td>\n",
       "      <td>United States</td>\n",
       "      <td>2013</td>\n",
       "      <td>2013</td>\n",
       "      <td>316128839</td>\n",
       "      <td>united-states</td>\n",
       "    </tr>\n",
       "    <tr>\n",
       "      <th>5</th>\n",
       "      <td>01000US</td>\n",
       "      <td>United States</td>\n",
       "      <td>2014</td>\n",
       "      <td>2014</td>\n",
       "      <td>318857056</td>\n",
       "      <td>united-states</td>\n",
       "    </tr>\n",
       "    <tr>\n",
       "      <th>4</th>\n",
       "      <td>01000US</td>\n",
       "      <td>United States</td>\n",
       "      <td>2015</td>\n",
       "      <td>2015</td>\n",
       "      <td>321418821</td>\n",
       "      <td>united-states</td>\n",
       "    </tr>\n",
       "    <tr>\n",
       "      <th>3</th>\n",
       "      <td>01000US</td>\n",
       "      <td>United States</td>\n",
       "      <td>2016</td>\n",
       "      <td>2016</td>\n",
       "      <td>323127515</td>\n",
       "      <td>united-states</td>\n",
       "    </tr>\n",
       "    <tr>\n",
       "      <th>2</th>\n",
       "      <td>01000US</td>\n",
       "      <td>United States</td>\n",
       "      <td>2017</td>\n",
       "      <td>2017</td>\n",
       "      <td>325719178</td>\n",
       "      <td>united-states</td>\n",
       "    </tr>\n",
       "    <tr>\n",
       "      <th>1</th>\n",
       "      <td>01000US</td>\n",
       "      <td>United States</td>\n",
       "      <td>2018</td>\n",
       "      <td>2018</td>\n",
       "      <td>327167439</td>\n",
       "      <td>united-states</td>\n",
       "    </tr>\n",
       "    <tr>\n",
       "      <th>0</th>\n",
       "      <td>01000US</td>\n",
       "      <td>United States</td>\n",
       "      <td>2019</td>\n",
       "      <td>2019</td>\n",
       "      <td>328239523</td>\n",
       "      <td>united-states</td>\n",
       "    </tr>\n",
       "  </tbody>\n",
       "</table>\n",
       "</div>"
      ],
      "text/plain": [
       "  ID Nation         Nation  ID Year  Year  Population    Slug Nation\n",
       "6   01000US  United States     2013  2013   316128839  united-states\n",
       "5   01000US  United States     2014  2014   318857056  united-states\n",
       "4   01000US  United States     2015  2015   321418821  united-states\n",
       "3   01000US  United States     2016  2016   323127515  united-states\n",
       "2   01000US  United States     2017  2017   325719178  united-states\n",
       "1   01000US  United States     2018  2018   327167439  united-states\n",
       "0   01000US  United States     2019  2019   328239523  united-states"
      ]
     },
     "execution_count": 20,
     "metadata": {},
     "output_type": "execute_result"
    }
   ],
   "source": [
    "# USA POPULATION DATA\n",
    "# 2\n",
    "USAPP = requests.get(\"https://datausa.io/api/data?drilldowns=Nation&measures=Population\")\n",
    "txt = USAPP.json()\n",
    "Population_USA_table = pd.DataFrame(txt[\"data\"])\n",
    "Population_USA_table = Population_USA_table.sort_values(['Year'], ascending=[1])\n",
    "Population_USA_table\n"
   ]
  },
  {
   "cell_type": "code",
   "execution_count": 21,
   "id": "d3189e2b",
   "metadata": {},
   "outputs": [
    {
     "data": {
      "text/plain": [
       "<AxesSubplot:title={'center':'Population of USA 2013 to 2019'}, xlabel='Year'>"
      ]
     },
     "execution_count": 21,
     "metadata": {},
     "output_type": "execute_result"
    },
    {
     "data": {
      "image/png": "[encoded data removed]",
      "text/plain": [
       "<Figure size 936x648 with 1 Axes>"
      ]
     },
     "metadata": {
      "needs_background": "light"
     },
     "output_type": "display_data"
    }
   ],
   "source": [
    "Population_USA_table.plot(title='Population of USA 2013 to 2019',x='Year', y='Population',figsize=(13,9))"
   ]
  },
  {
   "cell_type": "code",
   "execution_count": 34,
   "id": "96901dea",
   "metadata": {},
   "outputs": [
    {
     "data": {
      "text/plain": [
       "<BarContainer object of 3 artists>"
      ]
     },
     "execution_count": 34,
     "metadata": {},
     "output_type": "execute_result"
    },
    {
     "data": {
      "image/png": "[encoded data removed]",
      "text/plain": [
       "<Figure size 432x288 with 1 Axes>"
      ]
     },
     "metadata": {
      "needs_background": "light"
     },
     "output_type": "display_data"
    }
   ],
   "source": [
    "# COINPRICE 3\n",
    "COINPRICE_TABLE = pd.DataFrame([])\n",
    "COINPRICE = requests.get(\"https://api.coindesk.com/v1/bpi/currentprice.json\")\n",
    "txt = COINPRICE.json()\n",
    "COINPRICE_TABLE = pd.DataFrame(txt[\"bpi\"])\n",
    "\n",
    "COINPRICE_TABLE = COINPRICE_TABLE.drop('symbol')\n",
    "COINPRICE_TABLE_Trans = COINPRICE_TABLE.T\n",
    "\n",
    "label = COINPRICE_TABLE_Trans['code']\n",
    "height = COINPRICE_TABLE_Trans['rate_float']\n",
    "\n",
    "fig, ax = plt.subplots()\n",
    "ax.set_title('Bitcoin rate')\n",
    "ax.bar(label, height)\n"
   ]
  },
  {
   "cell_type": "code",
   "execution_count": 37,
   "id": "b99221ca",
   "metadata": {
    "scrolled": true
   },
   "outputs": [
    {
     "data": {
      "text/plain": [
       "200"
      ]
     },
     "execution_count": 37,
     "metadata": {},
     "output_type": "execute_result"
    }
   ],
   "source": [
    "COINPRICE.status_code"
   ]
  },
  {
   "cell_type": "code",
   "execution_count": 38,
   "id": "7dde2cb3",
   "metadata": {},
   "outputs": [
    {
     "data": {
      "text/plain": [
       "{'time': {'updated': 'Sep 29, 2021 12:01:00 UTC',\n",
       "  'updatedISO': '2021-09-29T12:01:00+00:00',\n",
       "  'updateduk': 'Sep 29, 2021 at 13:01 BST'},\n",
       " 'disclaimer': 'This data was produced from the CoinDesk Bitcoin Price Index (USD). Non-USD currency data converted using hourly conversion rate from openexchangerates.org',\n",
       " 'chartName': 'Bitcoin',\n",
       " 'bpi': {'USD': {'code': 'USD',\n",
       "   'symbol': '&#36;',\n",
       "   'rate': '42,419.4167',\n",
       "   'description': 'United States Dollar',\n",
       "   'rate_float': 42419.4167},\n",
       "  'GBP': {'code': 'GBP',\n",
       "   'symbol': '&pound;',\n",
       "   'rate': '31,412.5961',\n",
       "   'description': 'British Pound Sterling',\n",
       "   'rate_float': 31412.5961},\n",
       "  'EUR': {'code': 'EUR',\n",
       "   'symbol': '&euro;',\n",
       "   'rate': '36,382.3277',\n",
       "   'description': 'Euro',\n",
       "   'rate_float': 36382.3277}}}"
      ]
     },
     "execution_count": 38,
     "metadata": {},
     "output_type": "execute_result"
    }
   ],
   "source": [
    "txt"
   ]
  },
  {
   "cell_type": "code",
   "execution_count": 54,
   "id": "79847759",
   "metadata": {},
   "outputs": [],
   "source": [
    "#Zippopotam 4\n",
    "req = requests.get(\"https://api.zippopotam.us/us/33162\")\n",
    "txt = req.json()"
   ]
  },
  {
   "cell_type": "code",
   "execution_count": 57,
   "id": "cd6a1739",
   "metadata": {},
   "outputs": [],
   "source": [
    "def json_print(obj):\n",
    "    txt = json.dumps(obj, sort_keys=True, indent=4)\n",
    "    print(txt)  "
   ]
  },
  {
   "cell_type": "code",
   "execution_count": 58,
   "id": "e0180008",
   "metadata": {},
   "outputs": [
    {
     "name": "stdout",
     "output_type": "stream",
     "text": [
      "{\n",
      "    \"country\": \"United States\",\n",
      "    \"country abbreviation\": \"US\",\n",
      "    \"places\": [\n",
      "        {\n",
      "            \"latitude\": \"25.9286\",\n",
      "            \"longitude\": \"-80.183\",\n",
      "            \"place name\": \"Miami\",\n",
      "            \"state\": \"Florida\",\n",
      "            \"state abbreviation\": \"FL\"\n",
      "        }\n",
      "    ],\n",
      "    \"post code\": \"33162\"\n",
      "}\n"
     ]
    }
   ],
   "source": [
    "json_print(req.json())"
   ]
  },
  {
   "cell_type": "code",
   "execution_count": 63,
   "id": "367f5830",
   "metadata": {},
   "outputs": [],
   "source": [
    "with open('ip_info.json','w') as f:\n",
    "    json.dump(req.json(),f)\n",
    "with open('ip_info.json') as json_data:\n",
    "    dataset = json.load(json_data)\n",
    "dataset = dataset\n",
    "df = pd.DataFrame(dataset)"
   ]
  },
  {
   "cell_type": "code",
   "execution_count": 64,
   "id": "0b86d67e",
   "metadata": {},
   "outputs": [
    {
     "data": {
      "text/html": [
       "<div>\n",
       "<style scoped>\n",
       "    .dataframe tbody tr th:only-of-type {\n",
       "        vertical-align: middle;\n",
       "    }\n",
       "\n",
       "    .dataframe tbody tr th {\n",
       "        vertical-align: top;\n",
       "    }\n",
       "\n",
       "    .dataframe thead th {\n",
       "        text-align: right;\n",
       "    }\n",
       "</style>\n",
       "<table border=\"1\" class=\"dataframe\">\n",
       "  <thead>\n",
       "    <tr style=\"text-align: right;\">\n",
       "      <th></th>\n",
       "      <th>post code</th>\n",
       "      <th>country</th>\n",
       "      <th>country abbreviation</th>\n",
       "      <th>places</th>\n",
       "    </tr>\n",
       "  </thead>\n",
       "  <tbody>\n",
       "    <tr>\n",
       "      <th>0</th>\n",
       "      <td>33162</td>\n",
       "      <td>United States</td>\n",
       "      <td>US</td>\n",
       "      <td>{'place name': 'Miami', 'longitude': '-80.183'...</td>\n",
       "    </tr>\n",
       "  </tbody>\n",
       "</table>\n",
       "</div>"
      ],
      "text/plain": [
       "  post code        country country abbreviation  \\\n",
       "0     33162  United States                   US   \n",
       "\n",
       "                                              places  \n",
       "0  {'place name': 'Miami', 'longitude': '-80.183'...  "
      ]
     },
     "execution_count": 64,
     "metadata": {},
     "output_type": "execute_result"
    }
   ],
   "source": [
    "df"
   ]
  },
  {
   "cell_type": "code",
   "execution_count": 53,
   "id": "8f876705",
   "metadata": {},
   "outputs": [
    {
     "data": {
      "text/plain": [
       "200"
      ]
     },
     "execution_count": 53,
     "metadata": {},
     "output_type": "execute_result"
    }
   ],
   "source": [
    "req.status_code"
   ]
  },
  {
   "cell_type": "code",
   "execution_count": 66,
   "id": "d9ce5be7",
   "metadata": {},
   "outputs": [
    {
     "name": "stdout",
     "output_type": "stream",
     "text": [
      "social activity : Go to a concert with some friends\n"
     ]
    }
   ],
   "source": [
    "# Bored 5\n",
    "boredapi = requests.get(\"https://www.boredapi.com/api/activity/\")\n",
    "txtbored = boredapi.json()\n",
    "Random_Activity = txtbored[\"activity\"]\n",
    "Type_Activity = txtbored[\"type\"]\n",
    "print(Type_Activity,\"activity :\", Random_Activity)"
   ]
  },
  {
   "cell_type": "code",
   "execution_count": null,
   "id": "45e04e9b",
   "metadata": {},
   "outputs": [],
   "source": []
  }
 ],
 "metadata": {
  "kernelspec": {
   "display_name": "Python 3",
   "language": "python",
   "name": "python3"
  },
  "language_info": {
   "codemirror_mode": {
    "name": "ipython",
    "version": 3
   },
   "file_extension": ".py",
   "mimetype": "text/x-python",
   "name": "python",
   "nbconvert_exporter": "python",
   "pygments_lexer": "ipython3",
   "version": "3.8.8"
  }
 },
 "nbformat": 4,
 "nbformat_minor": 5
}
